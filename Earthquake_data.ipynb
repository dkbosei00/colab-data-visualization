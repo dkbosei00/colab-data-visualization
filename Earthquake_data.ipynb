{
  "nbformat": 4,
  "nbformat_minor": 0,
  "metadata": {
    "colab": {
      "provenance": [],
      "authorship_tag": "ABX9TyNIQriAH5AUtyw/OOr/WIg8",
      "include_colab_link": true
    },
    "kernelspec": {
      "name": "python3",
      "display_name": "Python 3"
    },
    "language_info": {
      "name": "python"
    }
  },
  "cells": [
    {
      "cell_type": "markdown",
      "metadata": {
        "id": "view-in-github",
        "colab_type": "text"
      },
      "source": [
        "<a href=\"https://colab.research.google.com/github/dkbosei00/colab-data-visualization/blob/main/Earthquake_data.ipynb\" target=\"_parent\"><img src=\"https://colab.research.google.com/assets/colab-badge.svg\" alt=\"Open In Colab\"/></a>"
      ]
    },
    {
      "cell_type": "code",
      "execution_count": 3,
      "metadata": {
        "id": "SB0Q28fmHL5Z"
      },
      "outputs": [],
      "source": [
        "import json\n",
        "from plotly.graph_objs import Scattergeo, Layout\n",
        "from plotly import offline"
      ]
    },
    {
      "cell_type": "code",
      "source": [
        "filename = '/content/sample_data/eq_data_1_day_m1.json'\n",
        "\n",
        "try:\n",
        "    with open(filename) as f:\n",
        "        reader = json.load(f)\n",
        "\n",
        "    all_eq_data = reader['features']\n",
        "    mags, long, lat = [mag['properties']['mag'] for mag in all_eq_data], [long['geometry']['coordinates'][0] for long in all_eq_data],[lat['geometry']['coordinates'][1] for lat in all_eq_data]\n",
        "    print(mags[:10])\n",
        "    print(long[:10])\n",
        "    print(lat[:10])\n",
        "\n",
        "except FileNotFoundError:\n",
        "    print(\"File does not exist\")"
      ],
      "metadata": {
        "colab": {
          "base_uri": "https://localhost:8080/"
        },
        "id": "UQ4dykmvHzw-",
        "outputId": "3c55764a-3876-4f58-950b-7b117af1dc19"
      },
      "execution_count": 4,
      "outputs": [
        {
          "output_type": "stream",
          "name": "stdout",
          "text": [
            "[0.96, 1.2, 4.3, 3.6, 2.1, 4, 1.06, 2.3, 4.9, 1.8]\n",
            "[-116.7941667, -148.9865, -74.2343, -161.6801, -118.5316667, -144.1283, -116.7433333, -153.7845, 59.3991, -116.2045]\n",
            "[33.4863333, 64.6673, -12.1025, 54.2232, 35.3098333, 69.5346, 33.5148333, 59.6106, -30.7399, 37.0572]\n"
          ]
        }
      ]
    },
    {
      "cell_type": "code",
      "source": [
        "# Map the earthquakes\n",
        "data = [Scattergeo(lon=long, lat=lat)]\n",
        "my_layout = Layout(title='Global earthquakes')\n",
        "\n",
        "fig = {'data': data, 'layout': my_layout}\n",
        "offline.plot(fig, filename='global_earth.html')"
      ],
      "metadata": {
        "colab": {
          "base_uri": "https://localhost:8080/",
          "height": 35
        },
        "id": "fgnsRvRcIm-Q",
        "outputId": "8ba0ebc5-4254-4706-9579-888e5b529e56"
      },
      "execution_count": 6,
      "outputs": [
        {
          "output_type": "execute_result",
          "data": {
            "text/plain": [
              "'global_earth.html'"
            ],
            "application/vnd.google.colaboratory.intrinsic+json": {
              "type": "string"
            }
          },
          "metadata": {},
          "execution_count": 6
        }
      ]
    },
    {
      "cell_type": "code",
      "source": [
        "# Map the earthquakes (customized)\n",
        "data = [{'type': 'scattergeo', 'lon': long, 'lat': lat, 'marker': {'size': [mag * 5 for mag in mags]}}]\n",
        "my_layout = Layout(title='Global earthquakes')\n",
        "\n",
        "fig = {'data': data, 'layout': my_layout}\n",
        "offline.plot(fig, filename='global_earth_2.html')"
      ],
      "metadata": {
        "colab": {
          "base_uri": "https://localhost:8080/",
          "height": 35
        },
        "id": "_XSK2qInLQUl",
        "outputId": "11ff4885-b5d8-4df4-9eec-e399212df47d"
      },
      "execution_count": 7,
      "outputs": [
        {
          "output_type": "execute_result",
          "data": {
            "text/plain": [
              "'global_earth_2.html'"
            ],
            "application/vnd.google.colaboratory.intrinsic+json": {
              "type": "string"
            }
          },
          "metadata": {},
          "execution_count": 7
        }
      ]
    }
  ]
}